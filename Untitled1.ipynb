{
 "cells": [
  {
   "cell_type": "code",
   "execution_count": 2,
   "metadata": {},
   "outputs": [
    {
     "name": "stderr",
     "output_type": "stream",
     "text": [
      "Using TensorFlow backend.\n"
     ]
    }
   ],
   "source": [
    "import csv\n",
    "import cv2\n",
    "import numpy as np\n",
    "from keras.models import Sequential\n",
    "from keras.layers import Flatten, Dense\n",
    "\n",
    "path_to_data = 'Car_Sim_Test_No1/'\n",
    "\n",
    "lines = []\n",
    "with open(path_to_data + 'driving_log.csv') as csvfile:\n",
    "    reader = csv.reader(csvfile)\n",
    "    for line in reader:\n",
    "        lines.append(line)\n",
    "\n",
    "images = []\n",
    "measurements = []\n",
    "for line in lines:\n",
    "    source_path = line[0]\n",
    "    filename = source_path.split('/')[-1]\n",
    "    current_path = path_to_data + '/IMG/' + filename\n",
    "    image = cv2.imread(current_path)\n",
    "    images.append(image)\n",
    "    measurement = float(line[3])\n",
    "    measurements.append(measurement)\n",
    "\n",
    "X_train = np.array(images)\n",
    "y_train = np.array(measurements)"
   ]
  },
  {
   "cell_type": "code",
   "execution_count": 4,
   "metadata": {},
   "outputs": [
    {
     "data": {
      "text/plain": [
       "'left_2018_08_04_16_53_51_582.jpg'"
      ]
     },
     "execution_count": 4,
     "metadata": {},
     "output_type": "execute_result"
    }
   ],
   "source": [
    "print(line[1])\n",
    "print(line[1].split('/')[-1])\n",
    "print()"
   ]
  },
  {
   "cell_type": "code",
   "execution_count": 34,
   "metadata": {},
   "outputs": [
    {
     "name": "stdout",
     "output_type": "stream",
     "text": [
      "Train on 2709 samples, validate on 678 samples\n",
      "Epoch 1/7\n",
      "2709/2709 [==============================] - 2s - loss: 22485862.2948 - val_loss: 14657.1956\n",
      "Epoch 2/7\n",
      "2709/2709 [==============================] - 2s - loss: 12470.8213 - val_loss: 13403.7207\n",
      "Epoch 3/7\n",
      "2709/2709 [==============================] - 2s - loss: 6434.5241 - val_loss: 4152.9809\n",
      "Epoch 4/7\n",
      "2709/2709 [==============================] - 2s - loss: 3793.2940 - val_loss: 2752.7978\n",
      "Epoch 5/7\n",
      "2709/2709 [==============================] - 2s - loss: 3296.6811 - val_loss: 3506.5585\n",
      "Epoch 6/7\n",
      "2709/2709 [==============================] - 2s - loss: 2959.0944 - val_loss: 2484.8633\n",
      "Epoch 7/7\n",
      "2709/2709 [==============================] - 2s - loss: 2306.8021 - val_loss: 2512.7534\n"
     ]
    }
   ],
   "source": [
    "model = Sequential()\n",
    "model.add(Flatten(input_shape=(160,320,3)))\n",
    "model.add(Dense(1))\n",
    "model.compile(loss='mse', optimizer='adam')\n",
    "\n",
    "model.fit(X_train, y_train, validation_split=0.2, shuffle=True, nb_epoch=7)\n",
    "\n",
    "model.save('model.h5')"
   ]
  },
  {
   "cell_type": "code",
   "execution_count": null,
   "metadata": {
    "collapsed": true
   },
   "outputs": [],
   "source": []
  }
 ],
 "metadata": {
  "kernelspec": {
   "display_name": "Python 3",
   "language": "python",
   "name": "python3"
  },
  "language_info": {
   "codemirror_mode": {
    "name": "ipython",
    "version": 3
   },
   "file_extension": ".py",
   "mimetype": "text/x-python",
   "name": "python",
   "nbconvert_exporter": "python",
   "pygments_lexer": "ipython3",
   "version": "3.5.2"
  },
  "widgets": {
   "state": {},
   "version": "1.1.2"
  }
 },
 "nbformat": 4,
 "nbformat_minor": 2
}
